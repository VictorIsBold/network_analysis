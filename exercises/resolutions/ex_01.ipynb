{
  "cells": [
    {
      "cell_type": "markdown",
      "metadata": {
        "id": "HKk8x8a85wPt"
      },
      "source": [
        "\n",
        "Given the digraph G = (V, E) where V = {M, N, O, P, Q, R, S} and\n",
        "\n",
        "E ={(M, S), (N, O), (P, R), (N, S), (O, M), (N, Q), (O, M), (P, P), (S, M), (O, N),  (S, M), (N, R), (P, M), (M, S)}\n",
        "\n",
        "(a) Specify, if any, a simple path from vertex M to vertex S.\n",
        "\n",
        "(b) Specify, if any, a simple cycle, involving at least 4 nodes.\n",
        "\n",
        "(c) Is the digraph connected or not connected?\n",
        "\n",
        "(d) What is the degree of vertices N and R.\n",
        "\n",
        "(e) Represent the digraph using adjacency list representation.\n",
        "\n",
        "(f) Represent the digraph using adjacency matrix representation.\n",
        "\n"
      ]
    },
    {
      "cell_type": "code",
      "execution_count": null,
      "metadata": {
        "colab": {
          "base_uri": "https://localhost:8080/"
        },
        "id": "6C3coSkN1p0L",
        "outputId": "6448cbae-6858-4dd0-92cf-f4acef4a5003"
      },
      "outputs": [
        {
          "name": "stdout",
          "output_type": "stream",
          "text": [
            "Collecting nxviz\n",
            "  Downloading nxviz-0.7.4-py3-none-any.whl (28 kB)\n",
            "Requirement already satisfied: matplotlib>=3.3.3 in /usr/local/lib/python3.10/dist-packages (from nxviz) (3.7.1)\n",
            "Requirement already satisfied: more-itertools>=8.6.0 in /usr/local/lib/python3.10/dist-packages (from nxviz) (10.1.0)\n",
            "Requirement already satisfied: networkx>=2.5 in /usr/local/lib/python3.10/dist-packages (from nxviz) (3.2.1)\n",
            "Requirement already satisfied: numpy>=1.19.4 in /usr/local/lib/python3.10/dist-packages (from nxviz) (1.25.2)\n",
            "Collecting palettable>=3.3.0 (from nxviz)\n",
            "  Downloading palettable-3.3.3-py2.py3-none-any.whl (332 kB)\n",
            "\u001b[2K     \u001b[90m━━━━━━━━━━━━━━━━━━━━━━━━━━━━━━━━━━━━━━━━\u001b[0m \u001b[32m332.3/332.3 kB\u001b[0m \u001b[31m6.9 MB/s\u001b[0m eta \u001b[36m0:00:00\u001b[0m\n",
            "\u001b[?25hRequirement already satisfied: pandas>=1.2.0 in /usr/local/lib/python3.10/dist-packages (from nxviz) (2.0.3)\n",
            "Requirement already satisfied: seaborn>=0.11.1 in /usr/local/lib/python3.10/dist-packages (from nxviz) (0.13.1)\n",
            "Requirement already satisfied: contourpy>=1.0.1 in /usr/local/lib/python3.10/dist-packages (from matplotlib>=3.3.3->nxviz) (1.2.0)\n",
            "Requirement already satisfied: cycler>=0.10 in /usr/local/lib/python3.10/dist-packages (from matplotlib>=3.3.3->nxviz) (0.12.1)\n",
            "Requirement already satisfied: fonttools>=4.22.0 in /usr/local/lib/python3.10/dist-packages (from matplotlib>=3.3.3->nxviz) (4.50.0)\n",
            "Requirement already satisfied: kiwisolver>=1.0.1 in /usr/local/lib/python3.10/dist-packages (from matplotlib>=3.3.3->nxviz) (1.4.5)\n",
            "Requirement already satisfied: packaging>=20.0 in /usr/local/lib/python3.10/dist-packages (from matplotlib>=3.3.3->nxviz) (24.0)\n",
            "Requirement already satisfied: pillow>=6.2.0 in /usr/local/lib/python3.10/dist-packages (from matplotlib>=3.3.3->nxviz) (9.4.0)\n",
            "Requirement already satisfied: pyparsing>=2.3.1 in /usr/local/lib/python3.10/dist-packages (from matplotlib>=3.3.3->nxviz) (3.1.2)\n",
            "Requirement already satisfied: python-dateutil>=2.7 in /usr/local/lib/python3.10/dist-packages (from matplotlib>=3.3.3->nxviz) (2.8.2)\n",
            "Requirement already satisfied: pytz>=2020.1 in /usr/local/lib/python3.10/dist-packages (from pandas>=1.2.0->nxviz) (2023.4)\n",
            "Requirement already satisfied: tzdata>=2022.1 in /usr/local/lib/python3.10/dist-packages (from pandas>=1.2.0->nxviz) (2024.1)\n",
            "Requirement already satisfied: six>=1.5 in /usr/local/lib/python3.10/dist-packages (from python-dateutil>=2.7->matplotlib>=3.3.3->nxviz) (1.16.0)\n",
            "Installing collected packages: palettable, nxviz\n",
            "Successfully installed nxviz-0.7.4 palettable-3.3.3\n"
          ]
        }
      ],
      "source": [
        "%pip install nxviz"
      ]
    },
    {
      "cell_type": "code",
      "execution_count": null,
      "metadata": {
        "id": "QiyV9Yiq5G9j"
      },
      "outputs": [],
      "source": [
        "import networkx as nx\n"
      ]
    },
    {
      "cell_type": "code",
      "execution_count": null,
      "metadata": {
        "id": "qq7k5sWV7EWX"
      },
      "outputs": [],
      "source": [
        "list_edges = [(\"m\", \"s\"), (\"n\", \"o\"), (\"p\", \"r\"), (\"n\", \"s\"), (\"o\", \"m\"),\n",
        "              (\"n\", \"q\"), (\"o\", \"m\"), (\"p\", \"p\"), (\"s\", \"m\"), (\"o\", \"n\"),\n",
        "              (\"s\", \"m\"), (\"n\", \"r\"), (\"p\", \"m\"), (\"m\", \"s\")]\n",
        "\n",
        "G = nx.DiGraph()\n",
        "\n",
        "G.add_edges_from(list_edges)"
      ]
    },
    {
      "cell_type": "markdown",
      "metadata": {
        "id": "u1tTsxfoGaaU"
      },
      "source": [
        "Assortatividade de G"
      ]
    },
    {
      "cell_type": "code",
      "execution_count": null,
      "metadata": {
        "colab": {
          "base_uri": "https://localhost:8080/"
        },
        "id": "w1edeoMyGn31",
        "outputId": "441d02f3-d1dc-4a1a-af27-5e1d4c26a9d3"
      },
      "outputs": [
        {
          "name": "stdout",
          "output_type": "stream",
          "text": [
            "Não considerando pesos: -0.43082947332757865\n"
          ]
        }
      ],
      "source": [
        "print(\"Não considerando pesos: {}\".format(nx.degree_assortativity_coefficient(G)))\n",
        "#print(G.edges())\n",
        "#print(\"Considerando pesos: : \" + nx.degree_assortativity_coefficient(G))"
      ]
    },
    {
      "cell_type": "markdown",
      "metadata": {
        "id": "7WDN2BbV79LQ"
      },
      "source": [
        "Questão A"
      ]
    },
    {
      "cell_type": "code",
      "execution_count": null,
      "metadata": {
        "colab": {
          "base_uri": "https://localhost:8080/"
        },
        "id": "bKmzxtGj9Y36",
        "outputId": "dfb4f070-72ea-47b0-b1cb-d9e14e75a087"
      },
      "outputs": [
        {
          "name": "stdout",
          "output_type": "stream",
          "text": [
            "('m', 's')\n"
          ]
        }
      ],
      "source": [
        "paths = nx.path_graph(G)\n",
        "\n",
        "for p in paths.edges():\n",
        "  if p == ('m', 's'):\n",
        "   print(p)"
      ]
    },
    {
      "cell_type": "code",
      "execution_count": null,
      "metadata": {
        "colab": {
          "base_uri": "https://localhost:8080/"
        },
        "id": "cbsaKbrH-yYB",
        "outputId": "edf61697-8e28-41af-def9-da9633043117"
      },
      "outputs": [
        {
          "name": "stdout",
          "output_type": "stream",
          "text": [
            "True\n"
          ]
        }
      ],
      "source": [
        "print(nx.is_simple_path(G, [\"m\", \"s\"]))"
      ]
    },
    {
      "cell_type": "markdown",
      "metadata": {
        "id": "YUO5qctG_Q1t"
      },
      "source": [
        "Questão B"
      ]
    },
    {
      "cell_type": "code",
      "execution_count": null,
      "metadata": {
        "colab": {
          "base_uri": "https://localhost:8080/"
        },
        "id": "ZKVJhOt__V5A",
        "outputId": "7b3f5aa5-fb01-483a-cf6d-ada762f8370f"
      },
      "outputs": [
        {
          "name": "stdout",
          "output_type": "stream",
          "text": [
            "[['p'], ['n', 'o'], ['s', 'm']]\n"
          ]
        }
      ],
      "source": [
        "print(list(nx.simple_cycles(G, 4)))\n"
      ]
    },
    {
      "cell_type": "markdown",
      "metadata": {
        "id": "d110G2IjAVgG"
      },
      "source": [
        "Questão C"
      ]
    },
    {
      "cell_type": "code",
      "execution_count": null,
      "metadata": {
        "colab": {
          "base_uri": "https://localhost:8080/"
        },
        "id": "fCoQgRqRAYr1",
        "outputId": "2061d905-52b3-4d6c-fb07-8d0e7a30f325"
      },
      "outputs": [
        {
          "name": "stdout",
          "output_type": "stream",
          "text": [
            "True\n"
          ]
        }
      ],
      "source": [
        "print(nx.is_connected(G.to_undirected()))"
      ]
    },
    {
      "cell_type": "markdown",
      "metadata": {
        "id": "y65aNRSkAxna"
      },
      "source": [
        "Questão D"
      ]
    },
    {
      "cell_type": "code",
      "execution_count": null,
      "metadata": {
        "colab": {
          "base_uri": "https://localhost:8080/"
        },
        "id": "6_Vco56FBRfA",
        "outputId": "7c42343e-b2c2-471a-d9ec-bbc9296a7629"
      },
      "outputs": [
        {
          "name": "stdout",
          "output_type": "stream",
          "text": [
            "n has degree 5\n",
            "r has degree 2\n"
          ]
        }
      ],
      "source": [
        "degrees = nx.degree(G)\n",
        "for n in degrees:\n",
        "  if n[0] == \"n\" or n[0] == \"r\":\n",
        "    print(\"{} has degree {}\".format(n[0], n[1]))"
      ]
    },
    {
      "cell_type": "markdown",
      "metadata": {
        "id": "IV1vo9_4CryQ"
      },
      "source": [
        "Questão E"
      ]
    },
    {
      "cell_type": "code",
      "execution_count": null,
      "metadata": {
        "colab": {
          "base_uri": "https://localhost:8080/"
        },
        "id": "elGkTHzeCuSE",
        "outputId": "98072e61-c26e-4866-cd7e-3b8467349b7d"
      },
      "outputs": [
        {
          "name": "stdout",
          "output_type": "stream",
          "text": [
            "m : s \n",
            "s : m \n",
            "n : o s q r \n",
            "o : m n \n",
            "p : r p m \n",
            "r : \n",
            "q : \n"
          ]
        }
      ],
      "source": [
        "for k, v in G.adj.items():\n",
        "  print(\"{} : \".format(k), end=\"\")\n",
        "  for n in v:\n",
        "    print(n + \" \", end=\"\")\n",
        "  print(\"\")"
      ]
    },
    {
      "cell_type": "markdown",
      "metadata": {
        "id": "zTPWRwcaEP0W"
      },
      "source": [
        "Questão F"
      ]
    },
    {
      "cell_type": "code",
      "execution_count": null,
      "metadata": {
        "colab": {
          "base_uri": "https://localhost:8080/",
          "height": 637
        },
        "id": "Yu3nIfI0EfEa",
        "outputId": "0d2c9c8e-9e84-48a6-c75e-6ad34da1f4be"
      },
      "outputs": [
        {
          "name": "stderr",
          "output_type": "stream",
          "text": [
            "/usr/local/lib/python3.10/dist-packages/nxviz/api.py:275: UserWarning: As of nxviz 0.7, the object-oriented API is being deprecated in favour of a functional API. Please consider switching your plotting code! The object-oriented API wrappers remains in place to help you transition over. A few changes between the old and new API exist; please consult the nxviz documentation for more information. When the 1.0 release of nxviz happens, the object-oriented API will be dropped entirely.\n",
            "  warnings.warn(\n"
          ]
        },
        {
          "ename": "TypeError",
          "evalue": "BasePlot.draw() takes 0 positional arguments but 1 was given",
          "output_type": "error",
          "traceback": [
            "\u001b[0;31m---------------------------------------------------------------------------\u001b[0m",
            "\u001b[0;31mTypeError\u001b[0m                                 Traceback (most recent call last)",
            "\u001b[0;32m<ipython-input-14-11cabeda3620>\u001b[0m in \u001b[0;36m<cell line: 6>\u001b[0;34m()\u001b[0m\n\u001b[1;32m      4\u001b[0m \u001b[0mh\u001b[0m \u001b[0;34m=\u001b[0m \u001b[0mnv\u001b[0m\u001b[0;34m.\u001b[0m\u001b[0mMatrixPlot\u001b[0m\u001b[0;34m(\u001b[0m\u001b[0mG\u001b[0m\u001b[0;34m)\u001b[0m\u001b[0;34m\u001b[0m\u001b[0;34m\u001b[0m\u001b[0m\n\u001b[1;32m      5\u001b[0m \u001b[0;34m\u001b[0m\u001b[0m\n\u001b[0;32m----> 6\u001b[0;31m \u001b[0mh\u001b[0m\u001b[0;34m.\u001b[0m\u001b[0mdraw\u001b[0m\u001b[0;34m(\u001b[0m\u001b[0;34m)\u001b[0m\u001b[0;34m\u001b[0m\u001b[0;34m\u001b[0m\u001b[0m\n\u001b[0m\u001b[1;32m      7\u001b[0m \u001b[0mplt\u001b[0m\u001b[0;34m.\u001b[0m\u001b[0mshow\u001b[0m\u001b[0;34m(\u001b[0m\u001b[0;34m)\u001b[0m\u001b[0;34m\u001b[0m\u001b[0;34m\u001b[0m\u001b[0m\n",
            "\u001b[0;31mTypeError\u001b[0m: BasePlot.draw() takes 0 positional arguments but 1 was given"
          ]
        },
        {
          "data": {
            "image/png": "[encoded data removed]",
            "text/plain": [
              "<Figure size 640x480 with 1 Axes>"
            ]
          },
          "metadata": {},
          "output_type": "display_data"
        }
      ],
      "source": [
        "import nxviz as nv\n",
        "import matplotlib.pyplot as plt\n",
        "\n",
        "h = nv.MatrixPlot(G)\n",
        "\n",
        "h.draw()\n",
        "plt.show()"
      ]
    },
    {
      "cell_type": "markdown",
      "metadata": {
        "id": "O9jOCKbbFXUP"
      },
      "source": [
        "7. Draw the undirected and directed versions of the graph G(V, E), where V = {1, 2, 3, 4, 5, 6} and E = {(2, 5), (6, 1), (5, 3), (2, 3)}"
      ]
    },
    {
      "cell_type": "code",
      "execution_count": null,
      "metadata": {
        "id": "Ec4VQy9JFbQW"
      },
      "outputs": [],
      "source": [
        "edges = [(2, 5), (6, 1), (5, 3), (2, 3)]\n",
        "\n",
        "Gph = nx.Graph()\n",
        "dGph = nx.DiGraph()\n",
        "\n",
        "Gph.add_edges_from(edges)\n",
        "dGph.add_edges_from(edges)"
      ]
    },
    {
      "cell_type": "code",
      "execution_count": null,
      "metadata": {
        "colab": {
          "base_uri": "https://localhost:8080/",
          "height": 516
        },
        "id": "TTPksntmGr7o",
        "outputId": "e74f9b16-44c4-47a6-b27a-b1c0066749e7"
      },
      "outputs": [
        {
          "data": {
            "image/png": "[encoded data removed]",
            "text/plain": [
              "<Figure size 640x480 with 1 Axes>"
            ]
          },
          "metadata": {},
          "output_type": "display_data"
        }
      ],
      "source": [
        "nx.draw(Gph, with_labels=True)\n",
        "plt.show()"
      ]
    },
    {
      "cell_type": "code",
      "execution_count": null,
      "metadata": {
        "colab": {
          "base_uri": "https://localhost:8080/",
          "height": 516
        },
        "id": "aHsxR7sIGsKO",
        "outputId": "24b8af55-8d97-4689-9ba6-6c308b88f323"
      },
      "outputs": [
        {
          "data": {
            "image/png": "[encoded data removed]",
            "text/plain": [
              "<Figure size 640x480 with 1 Axes>"
            ]
          },
          "metadata": {},
          "output_type": "display_data"
        }
      ],
      "source": [
        "nx.draw(dGph, with_labels=True)\n",
        "plt.show()"
      ]
    },
    {
      "cell_type": "markdown",
      "metadata": {
        "id": "GeMGGZYH66hv"
      },
      "source": [
        "8. How many edges does a graph have 3 vertices of degree 3 and one vertex of degree 5?"
      ]
    },
    {
      "cell_type": "code",
      "execution_count": null,
      "metadata": {
        "id": "7VsgIN0Z6_iz"
      },
      "outputs": [],
      "source": []
    },
    {
      "cell_type": "markdown",
      "metadata": {
        "id": "KOnXDM3E7whP"
      },
      "source": [
        "9. Mr. A is friend with Mrs. B, but she doesn't like him back. She has a reciprocal friendship with both C and D, but only C considers D a friend. D has also sent friend requests to E, F, G, and H but, so far, only G replied. G also has a reciprocal relationship with A. Draw the corresponding directed graph."
      ]
    },
    {
      "cell_type": "code",
      "execution_count": null,
      "metadata": {
        "id": "smS1DAKI7y4u"
      },
      "outputs": [],
      "source": [
        "edges_list = [(\"a\", \"b\"), (\"b\", \"c\"), (\"c\", \"b\"), (\"b\", \"d\"),\n",
        "              (\"d\", \"b\"), (\"c\", \"d\"), (\"d\", \"g\"), (\"g\", \"a\")]\n",
        "\n",
        "graph = nx.DiGraph()\n",
        "graph.add_edges_from(edges_list)\n"
      ]
    },
    {
      "cell_type": "code",
      "execution_count": null,
      "metadata": {
        "colab": {
          "base_uri": "https://localhost:8080/",
          "height": 516
        },
        "id": "ijUSGOcQGZvz",
        "outputId": "afb52d30-4ba8-4a85-c650-513e51b6022b"
      },
      "outputs": [
        {
          "data": {
            "image/png": "[encoded data removed]",
            "text/plain": [
              "<Figure size 640x480 with 1 Axes>"
            ]
          },
          "metadata": {},
          "output_type": "display_data"
        }
      ],
      "source": [
        "nx.draw(graph, with_labels=True)\n",
        "plt.show()"
      ]
    }
  ],
  "metadata": {
    "colab": {
      "provenance": []
    },
    "kernelspec": {
      "display_name": "Python 3",
      "name": "python3"
    },
    "language_info": {
      "name": "python"
    }
  },
  "nbformat": 4,
  "nbformat_minor": 0
}
